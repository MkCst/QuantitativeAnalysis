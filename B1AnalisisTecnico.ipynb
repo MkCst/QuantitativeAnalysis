{
 "cells": [
  {
   "cell_type": "markdown",
   "metadata": {},
   "source": [
    "# Creación de un cuadro de mando interactivo para la AT"
   ]
  },
  {
   "cell_type": "code",
   "execution_count": null,
   "metadata": {},
   "outputs": [],
   "source": [
    "# Importe de librerias necesarias\n",
    "import ipywidgets as wd\n",
    "from ipywidgets import interact, interact_manual\n",
    "import cufflinks as cf\n",
    "import pandas as pd \n",
    "import yfinance as yf\n",
    "from plotly.offline import iplot, init_notebook_mode\n",
    "cf.go_offline()\n",
    "init_notebook_mode()\n",
    "\n",
    "\n",
    "import matplotlib.pyplot as plt\n",
    "import warnings\n",
    "# plt.style.use('seaborn')\n",
    "# plt.style.use('seaborn-colorblind') #alternative\n",
    "plt.rcParams['figure.figsize'] = [8, 4.5]\n",
    "plt.rcParams['figure.dpi'] = 300\n",
    "warnings.simplefilter(action='ignore', category=FutureWarning)\n",
    "\n"
   ]
  },
  {
   "cell_type": "code",
   "execution_count": null,
   "metadata": {},
   "outputs": [],
   "source": [
    "## Posible valores de los activos e indicadores tecnicos\n",
    "stocks = ['TWTR', 'MSFT', 'GOOGL', 'FB', 'TSLA', 'AAPL']\n",
    "indicators = ['Bollinger Bands', 'MACD', 'RSI']"
   ]
  },
  {
   "cell_type": "code",
   "execution_count": null,
   "metadata": {},
   "outputs": [],
   "source": [
    "# Funcion para la creacion de grafico interactivo\n",
    "\n",
    "def ta_dashboard(asset, indicator, start_date, end_date, \n",
    "                 bb_k, bb_n, macd_fast, macd_slow, macd_signal,\n",
    "                 rsi_periods, rsi_upper, rsi_lower):\n",
    "    \n",
    "    df = yf.download(asset, \n",
    "                     start=start_date, \n",
    "                     end=end_date,\n",
    "                     progress=False,\n",
    "                     auto_adjust=True)\n",
    "\n",
    "    qf = cf.QuantFig(df, title=f'TA Dashboard - {asset}', \n",
    "                     legend='right', name=f'{asset}')\n",
    "            \n",
    "    if 'Bollinger Bands' in indicator: \n",
    "        qf.add_bollinger_bands(periods=bb_n, \n",
    "                               boll_std=bb_k)\n",
    "    if 'MACD' in indicator: \n",
    "        qf.add_macd(fast_period=macd_fast, \n",
    "                    slow_period=macd_slow, \n",
    "                    signal_period=macd_signal)\n",
    "    if 'RSI' in indicator: \n",
    "        qf.add_rsi(periods=rsi_periods, \n",
    "                   rsi_upper=rsi_upper, \n",
    "                   rsi_lower=rsi_lower, \n",
    "                   showbands=True)\n",
    "\n",
    "    return qf.iplot()"
   ]
  },
  {
   "cell_type": "code",
   "execution_count": null,
   "metadata": {},
   "outputs": [],
   "source": [
    "# Definiendo selectores\n",
    "\n",
    "stocks_selector = wd.Dropdown(\n",
    "    options=stocks, \n",
    "    value=stocks[0], \n",
    "    description='Asset'\n",
    ")\n",
    "\n",
    "indicator_selector = wd.SelectMultiple(\n",
    "    description='Indicator',\n",
    "    options=indicators, \n",
    "    value=[indicators[0]]\n",
    ")\n",
    "\n",
    "start_date_selector = wd.DatePicker(\n",
    "    description='Start Date', \n",
    "    value=pd.to_datetime('2018-01-01'), \n",
    "    continuous_update=False\n",
    ")\n",
    "\n",
    "end_date_selector = wd.DatePicker(\n",
    "    description='End Date', \n",
    "    value=pd.to_datetime('2018-12-31'), \n",
    "    continuous_update=False\n",
    ")\n"
   ]
  },
  {
   "cell_type": "code",
   "execution_count": null,
   "metadata": {},
   "outputs": [],
   "source": [
    "# Etiquetas y agrupacion selectores en contenedor\n",
    "\n",
    "main_selector_label = wd.Label('Main parameters', \n",
    "                               layout=wd.Layout(height='45px'))\n",
    "\n",
    "main_selector_box = wd.VBox(children=[main_selector_label,\n",
    "                                      stocks_selector,\n",
    "                                      indicator_selector,\n",
    "                                      start_date_selector,\n",
    "                                      end_date_selector])"
   ]
  },
  {
   "cell_type": "code",
   "execution_count": null,
   "metadata": {},
   "outputs": [],
   "source": [
    "# BANDAS DE BOLLINGER\n",
    "\n",
    "bb_label = wd.Label('Bollinger Bands')\n",
    "\n",
    "n_param = wd.IntSlider(value=20, min=1, max=40, step=1, \n",
    "                       description='N:', continuous_update=False)\n",
    "\n",
    "k_param = wd.FloatSlider(value=2, min=0.5, max=4, step=0.5, \n",
    "                         description='k:', continuous_update=False)\n",
    "\n",
    "bollinger_box = wd.VBox(children=[bb_label, n_param, k_param])\n"
   ]
  },
  {
   "cell_type": "code",
   "execution_count": null,
   "metadata": {},
   "outputs": [],
   "source": [
    "# MACD\n",
    "\n",
    "macd_label = wd.Label('MACD')\n",
    "\n",
    "macd_fast = wd.IntSlider(value=12, min=2, max=50, step=1, \n",
    "                         description='Fast avg:', \n",
    "                         continuous_update=False)\n",
    "\n",
    "macd_slow = wd.IntSlider(value=26, min=2, max=50, step=1, \n",
    "                         description='Slow avg:', \n",
    "                         continuous_update=False)\n",
    "\n",
    "macd_signal = wd.IntSlider(value=9, min=2, max=50, step=1, \n",
    "                           description='MACD signal:', \n",
    "                           continuous_update=False)\n",
    "\n",
    "macd_box = wd.VBox(children=[macd_label, macd_fast, \n",
    "                             macd_slow, macd_signal])"
   ]
  },
  {
   "cell_type": "code",
   "execution_count": null,
   "metadata": {},
   "outputs": [],
   "source": [
    "# RSI\n",
    "\n",
    "rsi_label = wd.Label('RSI')\n",
    "\n",
    "rsi_periods = wd.IntSlider(value=14, min=2, max=50, step=1, \n",
    "                           description='RSI periods:', \n",
    "                           continuous_update=False)\n",
    "\n",
    "rsi_upper = wd.IntSlider(value=70, min=1, max=100, step=1, \n",
    "                         description='Upper Thr:', \n",
    "                         continuous_update=False)\n",
    "\n",
    "rsi_lower = wd.IntSlider(value=30, min=1, max=100, step=1, \n",
    "                         description='Lower Thr:', \n",
    "                         continuous_update=False)\n",
    "\n",
    "rsi_box = wd.VBox(children=[rsi_label, rsi_periods, \n",
    "                            rsi_upper, rsi_lower])\n",
    "\n"
   ]
  },
  {
   "cell_type": "code",
   "execution_count": null,
   "metadata": {},
   "outputs": [],
   "source": [
    "## Etiquetas y agrupacion selectores en contenedor\n",
    "\n",
    "\n",
    "sec_selector_label = wd.Label('Secondary parameters', \n",
    "                              layout=wd.Layout(height='45px'))\n",
    "blank_label = wd.Label('', layout=wd.Layout(height='45px'))\n",
    "\n",
    "sec_box_1 = wd.VBox([sec_selector_label, bollinger_box, macd_box])\n",
    "sec_box_2 = wd.VBox([blank_label, rsi_box])\n",
    "\n",
    "secondary_selector_box = wd.HBox([sec_box_1, sec_box_2])\n"
   ]
  },
  {
   "cell_type": "code",
   "execution_count": null,
   "metadata": {},
   "outputs": [],
   "source": [
    "## Agrupacion de cajas y preparacion de salida interactiva\n",
    "\n",
    "controls_dict = {'asset':stocks_selector, \n",
    "                 'indicator':indicator_selector, \n",
    "                 'start_date':start_date_selector, \n",
    "                 'end_date':end_date_selector, \n",
    "                 'bb_k':k_param, \n",
    "                 'bb_n':n_param,\n",
    "                 'macd_fast': macd_fast, \n",
    "                 'macd_slow': macd_slow, \n",
    "                 'macd_signal': macd_signal,\n",
    "                 'rsi_periods': rsi_periods, \n",
    "                 'rsi_upper': rsi_upper,\n",
    "                 'rsi_lower': rsi_lower}\n",
    "\n",
    "ui = wd.HBox([main_selector_box, secondary_selector_box])\n",
    "out = wd.interactive_output(ta_dashboard, controls_dict)"
   ]
  },
  {
   "cell_type": "code",
   "execution_count": null,
   "metadata": {
    "scrolled": false
   },
   "outputs": [],
   "source": [
    "# MOSTRAR DASHBOARD\n",
    "display(ui, out)"
   ]
  }
 ],
 "metadata": {
  "language_info": {
   "name": "python"
  },
  "orig_nbformat": 4
 },
 "nbformat": 4,
 "nbformat_minor": 2
}
