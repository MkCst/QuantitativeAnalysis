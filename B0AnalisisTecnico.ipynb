{
 "cells": [
  {
   "cell_type": "markdown",
   "metadata": {},
   "source": [
    "# Contenido \n",
    "1. [Analisis tecnico](#analisistec)\n",
    "2. [Grafico de velas](#grafvelas) \n",
    "   1. [Explicacion](#expl1)\n",
    "3. [Backtesting de una estrategia basada en la media móvil simple](#back)\n",
    "   1. [Introduccion a backtrader](#introtoback)\n",
    "      1. [Sobre la estrategia utilizada en SMA](#aboutsma)\n",
    "      2. [Puntos claves de la estrategia ](#keystrategy)\n",
    "   2. [Definiendo una señal](#signal)\n",
    "      1. [Grafico y explicacion](#graphid2)\n",
    "   3. [Definiendo una estrategia](#strategy)|\n",
    "      1. [Grafico y explicacion](#graphid3)\n",
    "   4. [Prueba funcion optimizada](#funcoptimin)\n",
    "   5. [Señales](#signals)\n",
    "   6. [Estrategias](#strategy)\n",
    "   7. [Notas generales](#generals)\n",
    "3. [Bandas de bollinger](#bollinger)\n",
    "\n"
   ]
  },
  {
   "cell_type": "markdown",
   "metadata": {},
   "source": [
    "# Analisis tecnico <a name=\"analisistec\"></a>\n",
    "En resumen, el AT (análisis técnico) es una metodología para determinar (pronosticar) la dirección futura de los precios de los activos e identificar oportunidades de inversión, basándose en el estudio de los datos pasados del mercado, especialmente los propios precios y el volumen negociado.\n",
    "* Comenzamos introduciendo una forma sencilla de visualizar los precios de las acciones utilizando el gráfico de velas. \n",
    "* Mostramos cómo calcular los indicadores seleccionados (con pistas sobre cómo calcular otros utilizando bibliotecas de Python seleccionadas) utilizados para el AT. \n",
    "\n",
    "Utilizando bibliotecas de Python establecidas, mostramos lo fácil que es hacer un backtest de las estrategias de trading construidas sobre la base de los indicadores de AT. De este modo, podemos evaluar el rendimiento de estas estrategias en un contexto real (incluso incluyendo las comisiones y demás).\n",
    "\n",
    "\n",
    "**Se presentan los siguientes temas**\n",
    "* Creación de un gráfico de velas \n",
    "* Backtesting de una estrategia basada en la media móvil simple \n",
    "* Cálculo de las Bandas de Bollinger y prueba de una estrategia de compra/venta \n",
    "* Cálculo del índice de fuerza relativa y prueba de una estrategia larga/corta \n",
    "* Construcción de un tablero interactivo para AT"
   ]
  },
  {
   "attachments": {
    "imagen.png": {
     "image/png": "[encoded data removed]"
    }
   },
   "cell_type": "markdown",
   "metadata": {},
   "source": [
    "# Grafico de velas  <a name=\"grafvelas\"></a>\n",
    "**Creacion de grafico de velas**\n",
    "Un gráfico de velas es un tipo de gráfico financiero que se utiliza para describir los movimientos de precios de un determinado valor. Una sola vela (que suele corresponder a un día, pero es posible una frecuencia más alta) combina los precios de apertura, alta, baja y cierre (OHLC (Open High Low Close)). \n",
    "\n",
    "Los elementos de una vela alcista (cuando el precio de cierre en un periodo de tiempo determinado es superior al precio de apertura) se presentan en la siguiente imagen (para una bajista, deberíamos intercambiar las posiciones de los precios de apertura y cierre):\n",
    "\n",
    "![imagen.png](attachment:imagen.png)\n"
   ]
  },
  {
   "cell_type": "markdown",
   "metadata": {},
   "source": [
    "Los gráficos de velas transmiten mucha más información que un simple gráfico de líneas del precio de cierre ajustado. Por eso se utilizan a menudo en las plataformas de negociación reales, y los operadores los utilizan para identificar patrones y tomar decisiones de negociación.\n",
    "\n",
    "***Tareas a realizar***\n",
    "\n",
    "Añadir líneas de media móvil (que son uno de los indicadores técnicos más básicos), Añadir gráficos de barras que representan el volumen.\n",
    "\n",
    "**Preparacion de ambiente y manejor de datos**\n",
    "\n",
    "Descarga de datos"
   ]
  },
  {
   "cell_type": "markdown",
   "metadata": {},
   "source": [
    "## Explicación  <a name=\"expl1\"></a>\n",
    "Creamos un objeto `QuantFig` pasando un DataFrame que contiene los datos de entrada, así como algunos argumentos para el título y la posición de la leyenda. Podríamos haber creado un simple gráfico de velas ejecutando el método `iplot` de `QuantFig` inmediatamente después.\n",
    "\n",
    "Tambien se añadio dos líneas de media móvil utilizando los métodos `add_sma/add_ema`. \n",
    "Decidimos considerar 20 períodos (días, en este caso). \n",
    "\n",
    "Por defecto, las medias se calculan utilizando la columna \"*close*\", sin embargo, podemos cambiar esto proporcionando el argumento de la columna.\n",
    "\n",
    "**Grafico de media movil**\n",
    "\n",
    "En el gráfico, podemos ver que la media móvil exponencial (EMA) se adapta a los cambios en los precios mucho más rápido que la SMA. Algunas discontinuidades en el gráfico están causadas por el hecho de que estamos utilizando datos diarios, y no hay datos para los fines de semana/festivos bancarios."
   ]
  },
  {
   "cell_type": "code",
   "execution_count": 1,
   "metadata": {},
   "outputs": [],
   "source": [
    "#1 Importando librerias a usar\n",
    "import pandas as pd \n",
    "import yfinance as yf\n",
    "\n",
    "## -> Descarga de informacion twitter\n",
    "\n",
    "df_twtr = yf.download('TWTR', \n",
    "                       start='2018-01-01', \n",
    "                       end='2018-12-31',\n",
    "                       progress=False,\n",
    "                       auto_adjust=True)"
   ]
  },
  {
   "cell_type": "code",
   "execution_count": null,
   "metadata": {},
   "outputs": [],
   "source": [
    "# Configuracion de cufflinks para graficos interactivos\n",
    "\n",
    "import cufflinks as cf\n",
    "from plotly.offline import iplot, init_notebook_mode\n",
    "\n",
    "cf.go_offline()\n",
    "init_notebook_mode()"
   ]
  },
  {
   "cell_type": "code",
   "execution_count": null,
   "metadata": {},
   "outputs": [],
   "source": [
    "# Grafico twitter\n",
    "\n",
    "qf = cf.QuantFig(df_twtr, title=\"Twitter precios de mercado\",\n",
    "                    legend=\"top\", name=\"TWTR\"\n",
    ")\n",
    "\n",
    "# Añadiendo volumen y medias moviles\n",
    "qf.add_volume()\n",
    "qf.add_sma(periods=20, column=\"Close\", color=\"red\")\n",
    "qf.add_ema(periods=20, color=\"green\")\n",
    "\n",
    "# Mostrar grafico\n",
    "qf.iplot()"
   ]
  },
  {
   "cell_type": "markdown",
   "metadata": {},
   "source": [
    "# Backtesting de una estrategia basada en la media móvil simple <a name=\"back\"></a>\n"
   ]
  },
  {
   "cell_type": "markdown",
   "metadata": {},
   "source": [
    "La idea general que subyace en el backtesting es evaluar el rendimiento de una estrategia de negociación -construida a partir de algunas heurísticas o indicadores técnicos- aplicándola a datos históricos.\n",
    "\n",
    "> Introduccion al framework `backtrader`\n",
    "\n",
    "## Introduccion a backtrader <a name=\"introtoback\"></a>\n",
    "* Una gran cantidad de indicadores técnicos disponibles (backtrader también proporciona una envoltura alrededor de la popular biblioteca TA-Lib) y medidas de rendimiento \n",
    "* Facilidad para construir y aplicar nuevos indicadores Múltiples fuentes de datos disponibles (incluyendo Yahoo Finance, Quandl)\n",
    "* La simulación de muchos aspectos de los corredores reales, tales como diferentes tipos de órdenes (market, limit, stop), el deslizamiento (la diferencia entre los precios de ejecución previstos y reales de una orden), la comisión, ir largo / corto.\n",
    "* Una llamada de una línea para un gráficar, con todos los resultados\n",
    "\n",
    "*Los ejercicios funcionan con la siguiente versión: 1.9.76.123*\n",
    "> La versión oficial de backtrader tiene errores, esta versión compite para ser su sucesora pero se encuentra abandonada se instala con el comando : `pip install git+https://github.com/backtrader2/backtrader.git#egg=backtrader`\n",
    "\n",
    "\n"
   ]
  },
  {
   "cell_type": "markdown",
   "metadata": {},
   "source": [
    "### Sobre la estrategia utilizada (sma) <a name=\"aboutsma\"></a>\n",
    "Consideramos una estrategia básica basada en el SMA. Los puntos clave de la estrategia son los siguientes:\n",
    "\n",
    "**What Is Simple Moving Average (SMA)?**\n",
    "\n",
    "[Referencia a la definicion](https://www.investopedia.com/terms/s/sma.asp)\n",
    "\n",
    "* Una media móvil simple (SMA) calcula la media de un rango de precios seleccionado, normalmente precios de cierre, por el número de periodos de ese rango.\n",
    "* Una media móvil simple es un indicador técnico que puede ayudar a determinar si el precio de un activo continuará o si invertirá una tendencia alcista o bajista.\n",
    "* Una media móvil simple puede mejorarse como una media móvil exponencial (EMA) que se basa en mayor medida en la acción reciente de los precios.\n",
    "\n",
    "---\n",
    "### Puntos claves de la estrategia <a name=\"keystrategy\"></a>\n",
    "\n",
    "Si una media móvil simple de más corto plazo está por encima de una media de más largo plazo, se espera una tendencia alcista. Por otro lado, si la media a largo plazo está por encima de una media a corto plazo, se espera una tendencia bajista.\n",
    "\n",
    "* Cuando el precio de cierre sea superior a la SMA de 20 días, compre una acción.\n",
    "* Cuando el precio de cierre es inferior a la SMA de 20 días y tenemos una acción, la vendemos.\n",
    "* Sólo podemos tener un máximo de una acción en un momento dado.\n",
    "* No se permite la venta en corto.\n",
    "\n",
    "\n",
    "Se puede trabajar con dos enfoques posibles:\n",
    "* Construir una estrategia de negociación, utilizando una señal (`bt.Signal`)\n",
    "* Definir una estrategia completa (`bt.Strategy`).\n",
    "\n",
    "Ambos producen los mismos resultados, sin embargo, es más largo, utilizando `bt.Strategy`, proporciona más registro de lo que realmente está sucediendo en el fondo. \n",
    "\n",
    "Esto facilita la depuración y el seguimiento de todas las operaciones (el nivel de detalle incluido en el registro depende de nuestras necesidades)."
   ]
  },
  {
   "cell_type": "markdown",
   "metadata": {},
   "source": [
    "## Definiendo una señal <a name=\"signal\"></a>\n",
    "Uso de `backtrader.Signal`\n"
   ]
  },
  {
   "cell_type": "code",
   "execution_count": null,
   "metadata": {},
   "outputs": [],
   "source": [
    "from datetime import datetime\n",
    "import backtrader as bt\n",
    "from plotly.offline import iplot, init_notebook_mode\n",
    "\n",
    "init_notebook_mode()\n",
    "\n",
    "# DEFINIENDO UNA CLASE QUE REPRESENTA LA ESTRATEGIA\n",
    "class SmaSignal(bt.Signal):\n",
    "    params = (('period', 20), )\n",
    "    \n",
    "    def __init__(self):\n",
    "        self.lines.signal = self.data - bt.ind.SMA(period=self.p.period)\n",
    "    "
   ]
  },
  {
   "cell_type": "code",
   "execution_count": null,
   "metadata": {
    "scrolled": true
   },
   "outputs": [],
   "source": [
    "## Descargando datos de YAHOO FINANCE\n",
    "\n",
    "data = bt.feeds.YahooFinanceData(dataname='AAPL', \n",
    "                                 fromdate=datetime(2018, 1, 1),\n",
    "                                 todate=datetime(2018, 12, 31))\n",
    "\n",
    "\n",
    "## Configurando BACKTEST\n",
    "cerebro = bt.Cerebro(stdstats = False)\n",
    "\n",
    "cerebro.adddata(data)  \n",
    "cerebro.broker.setcash(1000.0)\n",
    "cerebro.add_signal(bt.SIGNAL_LONG, SmaSignal)\n",
    "cerebro.addobserver(bt.observers.BuySell)\n",
    "cerebro.addobserver(bt.observers.Value)\n",
    "\n",
    "## EJECUTAR BACKTEST\n",
    "print(f\"Comenzando portafolio con: {cerebro.broker.getvalue():.2f}\")\n",
    "cerebro.run()\n",
    "print(f\"Finalizando portafolio con: {cerebro.broker.getvalue():.2f}\")\n",
    "\n",
    "\n",
    "\n"
   ]
  },
  {
   "cell_type": "markdown",
   "metadata": {},
   "source": [
    "### Grafico y explicacion <a name=\"graphid2\"></a>\n",
    "\n",
    "El gráfico se divide en tres partes: la evolución del valor de la cartera, el precio del activo (junto con las señales de compra/venta) además de mostrarse el volumen y, por último, el indicador técnico que elijamos, como se muestra en el siguiente gráfico:"
   ]
  },
  {
   "cell_type": "code",
   "execution_count": null,
   "metadata": {},
   "outputs": [],
   "source": [
    "## GRAFICANDO RESULTADOS\n",
    "cerebro.plot(iplot=True, volume=True)"
   ]
  },
  {
   "cell_type": "markdown",
   "metadata": {},
   "source": [
    "## Definiendo una estrategia <a name=\"strategy\"></a>\n",
    "Definicion y uso de: `backtrader.Strategy`"
   ]
  },
  {
   "cell_type": "code",
   "execution_count": null,
   "metadata": {},
   "outputs": [],
   "source": [
    "# CONFIGURACION DE LA SIMULACION.\n",
    "from datetime import datetime\n",
    "import backtrader as bt\n",
    "from plotly.offline import iplot, init_notebook_mode\n",
    "\n",
    "init_notebook_mode()"
   ]
  },
  {
   "cell_type": "code",
   "execution_count": null,
   "metadata": {},
   "outputs": [],
   "source": [
    "class SmaStrategy(bt.Strategy):\n",
    "    params = (('ma_period', 20), ) ## Media movil 20 dias\n",
    "    \n",
    "    def __init__(self):\n",
    "        # seguir el precio de cierre de la serie\n",
    "        self.data_close = self.datas[0].close\n",
    "\n",
    "        # llevar el control de los pedidos precio de: orden, compra y comisiones\n",
    "        self.order = None\n",
    "        self.price = None\n",
    "        self.comm = None\n",
    "\n",
    "        # añadir un indicador de media móvil simple\n",
    "        self.sma = bt.ind.SMA(self.datas[0],\n",
    "                              period=self.params.ma_period)\n",
    "        \n",
    "    def log(self, txt):\n",
    "        dt = self.datas[0].datetime.date(0).isoformat()\n",
    "        print(f'{dt}, {txt}')\n",
    "        \n",
    "    \n",
    "    def notify_order(self, order):\n",
    "        if order.status in [order.Submitted, order.Accepted]:\n",
    "            # orden ya presentada/aceptada - no se requiere ninguna acción\n",
    "            return\n",
    "        \n",
    "        # informe de la orden ejecutada\n",
    "        if order.status in [order.Completed]:\n",
    "            if order.isbuy():\n",
    "                self.log(f'BUY EXECUTED --- Price: {order.executed.price:.2f}, Cost: {order.executed.value:.2f}, Commission: {order.executed.comm:.2f}')\n",
    "                self.price = order.executed.price\n",
    "                self.comm = order.executed.comm\n",
    "            else:\n",
    "                self.log(f'SELL EXECUTED --- Price: {order.executed.price:.2f}, Cost: {order.executed.value:.2f}, Commission: {order.executed.comm:.2f}')\n",
    "\n",
    "        # reportar orden fallida\n",
    "        elif order.status in [order.Canceled, order.Margin, order.Rejected]:\n",
    "            self.log('Order Failed')\n",
    "\n",
    "        # establecer ninguna orden pendiente\n",
    "        self.order = None\n",
    "\n",
    "        \n",
    "    def notify_trade(self, trade):\n",
    "        if not trade.isclosed:\n",
    "            return\n",
    "        self.log(f'OPERATION RESULT --- Gross: {trade.pnl:.2f}, Net: {trade.pnlcomm:.2f}\\n')\n",
    "    \n",
    "    def next(self):\n",
    "        # no hacer nada si hay una orden pendiente\n",
    "        if self.order:\n",
    "            return\n",
    "\n",
    "        # comprueba si ya hay una posición -> ATENCION AQUI(★ ω ★)\n",
    "        if not self.position:\n",
    "            # condición de compra \n",
    "            if self.data_close[0] > self.sma[0]:\n",
    "                self.log(f'BUY CREATED --- Price: {self.data_close[0]:.2f}')\n",
    "                self.order = self.buy()\n",
    "        else:\n",
    "            # condición de venta\n",
    "            if self.data_close[0] < self.sma[0]:            \n",
    "                self.log(f'SELL CREATED --- Price: {self.data_close[0]:.2f}')\n",
    "                self.order = self.sell()"
   ]
  },
  {
   "cell_type": "code",
   "execution_count": null,
   "metadata": {},
   "outputs": [],
   "source": [
    "# DEFINIENDO DATOS\n",
    "## Datos a usar microsoft\n",
    "data = bt.feeds.YahooFinanceData(dataname='AAPL', \n",
    "                                 fromdate=datetime(2018, 1, 1),\n",
    "                                 todate=datetime(2018, 12, 31))"
   ]
  },
  {
   "cell_type": "code",
   "execution_count": null,
   "metadata": {},
   "outputs": [],
   "source": [
    "## Configuracion de backtest\n",
    "\n",
    "cerebro = bt.Cerebro(stdstats = False)\n",
    "\n",
    "cerebro.adddata(data)\n",
    "cerebro.broker.setcash(1000.0)\n",
    "cerebro.addstrategy(SmaStrategy)\n",
    "cerebro.addobserver(bt.observers.BuySell)\n",
    "cerebro.addobserver(bt.observers.Value)"
   ]
  },
  {
   "cell_type": "code",
   "execution_count": null,
   "metadata": {},
   "outputs": [],
   "source": [
    "# EJECUTANDO TEST\n",
    "print(f'Starting Portfolio Value: {cerebro.broker.getvalue():.2f}')\n",
    "cerebro.run()\n",
    "print(f'Final Portfolio Value: {cerebro.broker.getvalue():.2f}')"
   ]
  },
  {
   "cell_type": "markdown",
   "metadata": {},
   "source": [
    "### Grafico y explicacion <a name=\"graphid3\"></a>\n",
    "El método `log` muestra su contenido: información sobre todas las operaciones creadas y ejecutadas, así como los resultados de la operación, en caso de que haya sido una venta\n",
    "\n",
    "**Explicacion**\n",
    "\n",
    "La idea clave de trabajar con backtrader es que existe el cerebro principal *Cerebro* y, utilizando diferentes métodos, le proporcionamos datos históricos, la estrategia de trading diseñada, métricas adicionales que queríamos calcular (por ejemplo, el Valor de la Cartera en el horizonte de inversión, o el ratio de Sharpe global), información sobre comisiones/descargas, etc. Estos eran los elementos comunes entre los dos enfoques. La parte que difiere es la definición de la estrategia. Se comenzara a describir los elementos comunes del marco de backtrader, asumiendo que ya existe una estrategia de negociación, y luego explicamos los detalles de las estrategias particulares\n",
    "\n",
    "**Elementos comunes**\n",
    "\n",
    "Comenzamos descargando los datos de precios de Yahoo Finance, con la ayuda de la función `bt.feeds.YahooFinanceData()`. Lo que siguió fue una serie de operaciones conectadas a Cerebro, como se describe aquí:\n",
    "\n",
    "* Creando la instancia de `bt.Cerebro` y estableciendo `stdstats = False`, para suprimir muchos elementos por defecto del gráfico. Haciendo esto se evitó el desorden de la salida, y luego elegimos manualmente los elementos interesantes (observadores e indicadores).\n",
    "* Se añadieron datos, utilizando el método `adddata`\n",
    "    * También se pueden añadir datos de otras fuentes como: archivos csv, pandas DataFrame, Quandl y otras fuentes.\n",
    "* Configurar la cantidad de dinero disponible, utilizando el método `broker.setcash`\n",
    "* Se añadieron \"Observadores\", usando `addobserver`. Seleccionamos dos observadores: `BuySell`, para mostrar las decisiones de compra/venta en el gráfico (denotadas por triángulos verdes y rojos), y `Value`, para seguir la evolución del valor de la cartera a lo largo del tiempo.\n",
    "\n",
    "El último paso consistió en ejecutar el backtest con `cerebro.run()` y mostrar el gráfico resultante con `cerebro.plot()`. En este último paso, deshabilitamos la visualización de los gráficos de barras de volumen, para no saturar el gráfico.\n"
   ]
  },
  {
   "cell_type": "code",
   "execution_count": null,
   "metadata": {
    "scrolled": true
   },
   "outputs": [],
   "source": [
    "## Graficando los resultados\n",
    "cerebro.plot(iplot=True, volume=False)"
   ]
  },
  {
   "cell_type": "markdown",
   "metadata": {},
   "source": [
    "## Prueba funcion optimizada <a name=\"funcoptimin\"></a>\n"
   ]
  },
  {
   "cell_type": "code",
   "execution_count": null,
   "metadata": {},
   "outputs": [],
   "source": [
    "# %load backtrader_sma_strategy_optimization.py\n",
    "from datetime import datetime\n",
    "import backtrader as bt\n",
    "\n",
    "\n",
    "# Crear una estrategia\n",
    "class SmaStrategy(bt.Strategy):\n",
    "    \n",
    "    def __init__(self):\n",
    "        # mantener un seguimiento del precio de cierre en la serie\n",
    "        self.data_close = self.datas[0].close\n",
    "\n",
    "        # mantener el control de los pedidos pendientes\n",
    "        self.order = None\n",
    "\n",
    "        # añadir un indicador de media móvil simple\n",
    "        self.sma = bt.ind.SMA(self.datas[0], period=self.params.ma_period)\n",
    "        \n",
    "    def log(self, txt):\n",
    "        '''Función de registro'''\n",
    "        dt = self.datas[0].datetime.date(0).isoformat()\n",
    "        print(f'{dt}, {txt}')\n",
    "    \n",
    "    def notify_order(self, order):\n",
    "        # establecer ninguna orden pendiente\n",
    "        self.order = None\n",
    "\n",
    "    def next(self):\n",
    "        # no hacer nada si hay una orden pendiente\n",
    "        if self.order:\n",
    "            return\n",
    "\n",
    "        # comprueba si ya hay una posición\n",
    "        if not self.position:\n",
    "            # condición de compra\n",
    "            if self.data_close[0] > self.sma[0]:\n",
    "                self.order = self.buy()\n",
    "        else:\n",
    "            # condición de venta\n",
    "            if self.data_close[0] < self.sma[0]:\n",
    "                self.order = self.sell()\n",
    "                \n",
    "    def stop(self):\n",
    "        self.log(f'(ma_period = {self.params.ma_period:2d}) --- Terminal Value: {self.broker.getvalue():.2f}')\n",
    "   "
   ]
  },
  {
   "cell_type": "code",
   "execution_count": null,
   "metadata": {},
   "outputs": [],
   "source": [
    "# Estableciendo datos y ejecucion de test\n",
    "## Descarga de datos\n",
    "\n",
    "\"\"\"NOTA: La ejecucion tarda demasiado\"\"\"\n",
    "data = bt.feeds.YahooFinanceData(dataname='AAPL',\n",
    "                                 fromdate=datetime(2018, 1, 1),\n",
    "                                 todate=datetime(2018, 12, 31))\n",
    "# creacion instancia cerebro\n",
    "cerebro = bt.Cerebro(stdstats = False)\n",
    "\n",
    "# configurar el backtest\n",
    "cerebro.adddata(data)\n",
    "cerebro.optstrategy(SmaStrategy, ma_period=range(10, 31))\n",
    "cerebro.broker.setcash(1000)\n",
    "cerebro.run(maxcpus=4)\n",
    "\n",
    "\n",
    "\n"
   ]
  },
  {
   "cell_type": "markdown",
   "metadata": {},
   "source": [
    "## Señales <a name=\"signals\"></a>\n",
    "La señal fue construida como una clase, heredando de `bt.Signal` La señal se representó como un número, en este caso, la diferencia entre el punto de datos actual `self.data` y la media móvil `bt.ind.SMA`\n",
    "* Si la señal es positiva, es una indicación para ir en largo (comprar).\n",
    "* Una negativa indica ir en corto (vender).\n",
    "* El valor 0 significa que no hay señal.\n",
    "\n",
    "El siguiente paso fue añadir la señal a Cerebro, utilizando el método `add_signal`. Al hacerlo, también tuvimos que especificar qué tipo de señal estábamos añadiendo\n",
    "\n",
    "A continuación se describen los tipos de señales disponibles: \n",
    "* LONGSHORT: Se tienen en cuenta tanto las indicaciones largas como las cortas de la señal. \n",
    "* LONG: Las señales positivas indican ir en largo; las negativas se utilizan para cerrar la posición larga.\n",
    "* SHORT: Las señales negativas indican ir en corto; las positivas se utilizan para cerrar la posición corta. \n",
    "* LONGEXIT: Una señal negativa se utiliza para salir de una posición larga. \n",
    "* SHORTEXIT: Una señal positiva se utiliza para salir de una posición corta\n",
    "\n",
    "Sin embargo, la salida de posiciones puede ser más compleja (permitiendo a los usuarios construir estrategias más sofisticadas), como se describe aquí: \n",
    "* LONG: Si hay una señal LONGEXIT, se utiliza para salir de la posición larga, en lugar del comportamiento por defecto mencionado anteriormente. Si hay una señal SHORT y no hay señal LONGEXIT, la señal SHORT se utiliza para cerrar la posición larga antes de abrir una corta. \n",
    "* SHORT: Si hay una señal SHORTEXIT, se utiliza para salir de la posición corta, en lugar del comportamiento por defecto mencionado anteriormente. Si hay una señal LONG y no hay señal SHORTEXIT, la señal LONG se utiliza para cerrar la posición corta antes de abrir una larga.\n",
    "\n",
    "La señal se calcula para cada punto de tiempo (como se visualiza en la parte inferior del gráfico), lo que efectivamente crea un flujo continuo de posiciones a abrir/cerrar (el valor de la señal de 0 no es muy probable que ocurra). Es por ello que backtrader, por defecto, desactiva la acumulación (la apertura constante de nuevas posiciones, aunque tengamos una ya abierta) y la concurrencia (generar nuevas órdenes sin que el broker nos responda si las enviadas anteriormente se ejecutaron con éxito)"
   ]
  },
  {
   "cell_type": "markdown",
   "metadata": {},
   "source": [
    "## Estrategias <a name=\"strategy\"></a>\n",
    "La estrategia fue construida como una clase, heredando de bt.Strategy. Dentro de la clase, definimos los siguientes métodos (en realidad los sobrescribimos para hacerlos a la medida de nuestras necesidades):\n",
    "* `__init__`: Aquí definimos los objetos de los que queremos hacer un seguimiento, por ejemplo, el precio de cierre, la orden, el precio de compra, la comisión, indicadores como la SMA, etc.\n",
    "* `log`: Se define con fines de registro\n",
    "* `notify_order`:Se define para informar del estado de la orden (posición). En general, en el día t, el indicador puede sugerir la apertura/cierre de una posición basándose en el precio de cierre (asumiendo que estamos trabajando con datos diarios). Entonces, la orden (de mercado) se ejecutará al día siguiente (utilizando el precio de apertura del día t + 1). Sin embargo, no hay garantía de que la orden se ejecute, ya que puede ser cancelada, o puede que no tengamos suficiente efectivo. Este comportamiento también es válido para las estrategias construidas con señales. También elimina cualquier orden pendiente, estableciendo `self.order = None`.\n",
    "* `notify_trade`: Se define para informar de los resultados de las operaciones (una vez cerradas las posiciones).\n",
    "* `next`:Este es el lugar que contiene la lógica de la estrategia de negociación. En primer lugar, comprobamos si hay una orden pendiente, y no hacemos nada si la hay. La segunda comprobación es para ver si ya tenemos una posición (forzada por nuestra estrategia; no es una obligación), y, si no la tenemos, comprobamos si el precio de cierre es superior a la media móvil. Si el resultado es positivo, se introduce una entrada en el registro y se coloca una orden de compra `self.order = self.buy()`. Aquí también podemos elegir el stake (número de activos que queremos comprar). Un resultado por defecto en `self.buy(size=1)`\n",
    "\n"
   ]
  },
  {
   "cell_type": "markdown",
   "metadata": {},
   "source": [
    "## Notas generales <a name=\"generals\"></a>\n",
    "* `Cerebro` sólo debe ser utilizado una vez. Si queremos ejecutar otro backtest, debemos crear una nueva instancia, no añadirle algo después de los cálculos previos. \n",
    "* La estrategia construida sobre `bt.Signal` hereda de `bt.Signal`, y utiliza sólo una señal. Sin embargo, podemos combinar múltiples señales, basadas en diferentes condiciones, cuando utilizamos `bt.SignalStrategy` en su lugar. \n",
    "* Cuando no especificamos lo contrario, todas las operaciones se llevan a cabo en una unidad del activo. \n",
    "* backtrader maneja automáticamente el período de calentamiento. En este caso, no se puede realizar ninguna operación hasta que haya suficientes puntos de datos para calcular el SMA de 20 días. Cuando se consideran varios indicadores a la vez, backtrader selecciona automáticamente el período más largo necesario"
   ]
  },
  {
   "cell_type": "markdown",
   "metadata": {},
   "source": [
    "# Bandas de bollinger <a name=\"bollinger\"></a>\n"
   ]
  },
  {
   "cell_type": "markdown",
   "metadata": {},
   "source": [
    "## Introduccion a las bandas de bollinger\n",
    "\n",
    "Las bandas de Bollinger son un método estadístico utilizado para obtener información sobre los precios y la volatilidad de un determinado activo a lo largo del tiempo. Para obtener las bandas de Bollinger, tenemos que calcular la media móvil y la desviación estándar de la serie temporal (precios), utilizando una ventana específica (normalmente, 20 días). A continuación, fijamos las bandas superiores/inferiores en K veces (normalmente, 2) la desviación estándar móvil por encima/por debajo de la media móvil."
   ]
  },
  {
   "cell_type": "code",
   "execution_count": null,
   "metadata": {},
   "outputs": [],
   "source": [
    "# Importe de librerias y configuracion espacio de trabajo\n",
    "\n",
    "import backtrader as bt\n",
    "import datetime\n",
    "import pandas as pd\n",
    "import matplotlib.pyplot as plt"
   ]
  },
  {
   "cell_type": "code",
   "execution_count": null,
   "metadata": {},
   "outputs": [],
   "source": [
    "class BBand_Strategy(bt.Strategy):\n",
    "    params = (('period', 20), # Periodo media movil\n",
    "              ('devfactor', 2.0),)\n",
    "    \n",
    "    \n",
    "    def __init__(self):\n",
    "        # mantener un seguimiento del precio de cierre en la serie\n",
    "        self.data_close = self.datas[0].close\n",
    "        self.data_open = self.datas[0].open\n",
    "\n",
    "        # keep track of pending orders/buy price/buy commission\n",
    "        self.order = None\n",
    "        self.price = None\n",
    "        self.comm = None\n",
    "\n",
    "        # add Bollinger Bands indicator and track the buy/sell signals\n",
    "        self.b_band = bt.ind.BollingerBands(self.datas[0], \n",
    "                                            period=self.p.period, \n",
    "                                            devfactor=self.p.devfactor)\n",
    "        self.buy_signal = bt.ind.CrossOver(self.datas[0], \n",
    "                                           self.b_band.lines.bot)\n",
    "        self.sell_signal = bt.ind.CrossOver(self.datas[0], \n",
    "                                            self.b_band.lines.top)\n",
    "        \n",
    "    def log(self, txt):\n",
    "        '''Función de registro'''\n",
    "        dt = self.datas[0].datetime.date(0).isoformat()\n",
    "        print(f'{dt}, {txt}')\n",
    "    \n",
    "    def notify_order(self, order):\n",
    "        if order.status in [order.Submitted, order.Accepted]:\n",
    "            # orden ya presentada/aceptada - no se requiere ninguna acción\n",
    "            return\n",
    "    \n",
    "        # informe de la orden ejecutada\n",
    "        if order.status in [order.Completed]:\n",
    "            if order.isbuy():\n",
    "                self.log(\n",
    "                    f'BUY EXECUTED --- Price: {order.executed.price:.2f}, Cost: {order.executed.value:.2f}, Commission: {order.executed.comm:.2f}'\n",
    "                )\n",
    "                self.price = order.executed.price\n",
    "                self.comm = order.executed.comm\n",
    "            else:\n",
    "                self.log(\n",
    "                    f'SELL EXECUTED --- Price: {order.executed.price:.2f}, Cost: {order.executed.value:.2f}, Commission: {order.executed.comm:.2f}'\n",
    "                )\n",
    "\n",
    "        # reportar orden fallida\n",
    "        elif order.status in [order.Canceled, order.Margin, \n",
    "                              order.Rejected]:\n",
    "            self.log('Order Failed')\n",
    "\n",
    "        # establecer ninguna orden pendiente\n",
    "        self.order = None\n",
    "        \n",
    "    def notify_trade(self, trade):\n",
    "        if not trade.isclosed:\n",
    "            return\n",
    "        # Notificando resumen de la transaccion\n",
    "        self.log(f'OPERATION RESULT --- Gross: {trade.pnl:.2f}, Net: {trade.pnlcomm:.2f}\\n')\n",
    "        \n",
    "   \n",
    "    def next_open(self): # <- Definiendo estrategia\n",
    "        if not self.position:\n",
    "            if self.buy_signal > 0:\n",
    "                # calcula el número máximo de acciones ('all-in')\n",
    "                size = int(self.broker.getcash() / self.datas[0].open)\n",
    "                # orden de compra\n",
    "                self.log(f'BUY CREATED --- Size: {size}, Cash: {self.broker.getcash():.2f}, Open: {self.data_open[0]}, Close: {self.data_close[0]}')\n",
    "                self.buy(size=size)\n",
    "        else:\n",
    "            if self.sell_signal < 0:\n",
    "                # orden de venta\n",
    "                self.log(f'SELL CREATED --- Size: {self.position.size}')\n",
    "                self.sell(size=self.position.size) "
   ]
  },
  {
   "cell_type": "code",
   "execution_count": null,
   "metadata": {},
   "outputs": [],
   "source": [
    "# Descarga de datos y configuracion de backtest\n",
    "\n",
    "## Descarga de datos\n",
    "data = bt.feeds.YahooFinanceData(\n",
    "    dataname='MSFT',\n",
    "    fromdate=datetime.datetime(2018, 1, 1),\n",
    "    todate=datetime.datetime(2018, 12, 31)\n",
    ")\n",
    "\n",
    "## Configuracion backtest\n",
    "cerebro = bt.Cerebro(stdstats = False, cheat_on_open=True)\n",
    "\n",
    "cerebro.addstrategy(BBand_Strategy)\n",
    "cerebro.adddata(data)\n",
    "cerebro.broker.setcash(10000)\n",
    "cerebro.broker.setcommission(commission=0.001)\n",
    "cerebro.addobserver(bt.observers.BuySell)\n",
    "cerebro.addobserver(bt.observers.Value)\n",
    "cerebro.addanalyzer(bt.analyzers.Returns, _name='retornos')\n",
    "cerebro.addanalyzer(bt.analyzers.TimeReturn, _name='tiempo_retorno')"
   ]
  },
  {
   "cell_type": "code",
   "execution_count": null,
   "metadata": {},
   "outputs": [],
   "source": [
    "# Ejecucion de backtest\n",
    "print('Starting Portfolio Value: %.2f' % cerebro.broker.getvalue())\n",
    "backtest_result = cerebro.run()\n",
    "print('Final Portfolio Value: %.2f' % cerebro.broker.getvalue())"
   ]
  },
  {
   "cell_type": "code",
   "execution_count": null,
   "metadata": {},
   "outputs": [],
   "source": [
    "## Grafica de resultados\n",
    "cerebro.plot(iplot=True, volume=False)"
   ]
  },
  {
   "cell_type": "markdown",
   "metadata": {},
   "source": [
    "## Metricas de retorno\n"
   ]
  },
  {
   "cell_type": "code",
   "execution_count": null,
   "metadata": {},
   "outputs": [],
   "source": [
    "print(\"Metricas de retorno\")\n",
    "print(backtest_result[0].analyzers.retornos.get_analysis())\n"
   ]
  },
  {
   "cell_type": "markdown",
   "metadata": {},
   "source": [
    "## Creacion de los rendimientos diarios de una cartera"
   ]
  },
  {
   "cell_type": "code",
   "execution_count": null,
   "metadata": {},
   "outputs": [],
   "source": [
    "# Importe de librerias necesarias\n",
    "\n",
    "import matplotlib.pyplot as plt\n",
    "import seaborn as sns\n",
    "import warnings\n",
    "\n",
    "plt.style.use('seaborn')\n",
    "plt.rcParams['figure.figsize'] = [8, 4.5]\n",
    "plt.rcParams['figure.dpi'] = 300\n",
    "warnings.simplefilter(action='ignore', category=FutureWarning)"
   ]
  },
  {
   "cell_type": "code",
   "execution_count": null,
   "metadata": {},
   "outputs": [],
   "source": [
    "## Construccion de grafico\n",
    "\n",
    "returns_dict = backtest_result[0].analyzers.tiempo_retorno.get_analysis()\n",
    "\n",
    "returns_df = pd.DataFrame(list(returns_dict.items()), \n",
    "                          columns = ['report_date', 'return']).set_index('report_date')\n",
    "\n",
    "returns_df.plot(title='Portfolio returns')\n",
    "plt.tight_layout()\n",
    "##plt.savefig(\"folder/name.png\")\n",
    "plt.show()"
   ]
  },
  {
   "cell_type": "markdown",
   "metadata": {},
   "source": [
    "# Indice de fuerza relativa y estrategia long short"
   ]
  },
  {
   "cell_type": "code",
   "execution_count": null,
   "metadata": {},
   "outputs": [],
   "source": [
    "# Importe de librerias\n",
    "from datetime import datetime\n",
    "import backtrader as bt \n",
    "\n",
    "## Creacion de estrategia\n",
    "class RsiSignalStrategy(bt.SignalStrategy):\n",
    "    params = dict(rsi_periods=14, rsi_upper=70, rsi_lower=30, rsi_mid=50)\n",
    "\n",
    "    def __init__(self):\n",
    "        ## añadir indicador rsi\n",
    "        rsi = bt.indicators.RSI(period=self.p.rsi_periods,\n",
    "                                upperband=self.p.rsi_upper,\n",
    "                                lowerband=self.p.rsi_lower)\n",
    "        \n",
    "        # Añadiendo señal rsi de la biblioteca ta-lib <- No incluida en backtrader\n",
    "        bt.talib.RSI(self.data, plotname='TA_RSI')\n",
    "\n",
    "        # Operacion long (a largo) - con salida\n",
    "        rsi_signal_long = bt.ind.CrossUp(rsi, self.p.rsi_lower, plot=False)\n",
    "        self.signal_add(bt.SIGNAL_LONG, rsi_signal_long)\n",
    "        self.signal_add(bt.SIGNAL_LONGEXIT, -(rsi > self.p.rsi_mid))\n",
    "\n",
    "        # Operacion short (en corto)\n",
    "        rsi_signal_short = -bt.ind.CrossDown(rsi, self.p.rsi_upper, plot=False)\n",
    "        self.signal_add(bt.SIGNAL_SHORT, rsi_signal_short)\n",
    "        self.signal_add(bt.SIGNAL_SHORTEXIT, rsi < self.p.rsi_mid)\n"
   ]
  },
  {
   "cell_type": "code",
   "execution_count": null,
   "metadata": {},
   "outputs": [],
   "source": [
    "# Descarga de datos\n",
    "data = bt.feeds.YahooFinanceData(dataname=\"FB\", \n",
    "                                fromdate=datetime(2018, 1,1),\n",
    "                                todate=datetime(2018,12,31))\n",
    "\n",
    "## Configuracion y ejecucion del backtest\n",
    "\n",
    "cerebro = bt.Cerebro(stdstats = False)\n",
    "cerebro.addstrategy(RsiSignalStrategy)\n",
    "cerebro.adddata(data)\n",
    "cerebro.broker.setcash(1000.0)\n",
    "cerebro.broker.setcommission(commission=0.001) # 0.1%\n",
    "cerebro.addobserver(bt.observers.BuySell)\n",
    "cerebro.addobserver(bt.observers.Value)\n",
    "\n",
    "cerebro.run()\n",
    "\n",
    "## Grafica de resultados\n",
    "cerebro.plot(iplot=True, volume=False)"
   ]
  },
  {
   "cell_type": "markdown",
   "metadata": {},
   "source": [
    "# Creación de un cuadro de mando interactivo para la AT"
   ]
  },
  {
   "cell_type": "code",
   "execution_count": null,
   "metadata": {},
   "outputs": [],
   "source": [
    "# Importe de librerias necesarias\n",
    "import ipywidgets as wd\n",
    "from ipywidgets import interact, interact_manual\n",
    "import cufflinks as cf\n",
    "import pandas as pd \n",
    "import yfinance as yf\n",
    "from plotly.offline import iplot, init_notebook_mode\n",
    "cf.go_offline()\n",
    "init_notebook_mode()\n",
    "\n",
    "\n",
    "import matplotlib.pyplot as plt\n",
    "import warnings\n",
    "# plt.style.use('seaborn')\n",
    "# plt.style.use('seaborn-colorblind') #alternative\n",
    "plt.rcParams['figure.figsize'] = [8, 4.5]\n",
    "plt.rcParams['figure.dpi'] = 300\n",
    "warnings.simplefilter(action='ignore', category=FutureWarning)\n",
    "\n"
   ]
  },
  {
   "cell_type": "code",
   "execution_count": null,
   "metadata": {},
   "outputs": [],
   "source": [
    "## Posible valores de los activos e indicadores tecnicos\n",
    "stocks = ['TWTR', 'MSFT', 'GOOGL', 'FB', 'TSLA', 'AAPL']\n",
    "indicators = ['Bollinger Bands', 'MACD', 'RSI']"
   ]
  },
  {
   "cell_type": "code",
   "execution_count": null,
   "metadata": {},
   "outputs": [],
   "source": [
    "# Funcion para la creacion de grafico interactivo\n",
    "\n",
    "def ta_dashboard(asset, indicator, start_date, end_date, \n",
    "                 bb_k, bb_n, macd_fast, macd_slow, macd_signal,\n",
    "                 rsi_periods, rsi_upper, rsi_lower):\n",
    "    \n",
    "    df = yf.download(asset, \n",
    "                     start=start_date, \n",
    "                     end=end_date,\n",
    "                     progress=False,\n",
    "                     auto_adjust=True)\n",
    "\n",
    "    qf = cf.QuantFig(df, title=f'TA Dashboard - {asset}', \n",
    "                     legend='right', name=f'{asset}')\n",
    "            \n",
    "    if 'Bollinger Bands' in indicator: \n",
    "        qf.add_bollinger_bands(periods=bb_n, \n",
    "                               boll_std=bb_k)\n",
    "    if 'MACD' in indicator: \n",
    "        qf.add_macd(fast_period=macd_fast, \n",
    "                    slow_period=macd_slow, \n",
    "                    signal_period=macd_signal)\n",
    "    if 'RSI' in indicator: \n",
    "        qf.add_rsi(periods=rsi_periods, \n",
    "                   rsi_upper=rsi_upper, \n",
    "                   rsi_lower=rsi_lower, \n",
    "                   showbands=True)\n",
    "\n",
    "    return qf.iplot()"
   ]
  },
  {
   "cell_type": "code",
   "execution_count": null,
   "metadata": {},
   "outputs": [],
   "source": [
    "# Definiendo selectores\n",
    "\n",
    "stocks_selector = wd.Dropdown(\n",
    "    options=stocks, \n",
    "    value=stocks[0], \n",
    "    description='Asset'\n",
    ")\n",
    "\n",
    "indicator_selector = wd.SelectMultiple(\n",
    "    description='Indicator',\n",
    "    options=indicators, \n",
    "    value=[indicators[0]]\n",
    ")\n",
    "\n",
    "start_date_selector = wd.DatePicker(\n",
    "    description='Start Date', \n",
    "    value=pd.to_datetime('2018-01-01'), \n",
    "    continuous_update=False\n",
    ")\n",
    "\n",
    "end_date_selector = wd.DatePicker(\n",
    "    description='End Date', \n",
    "    value=pd.to_datetime('2018-12-31'), \n",
    "    continuous_update=False\n",
    ")\n"
   ]
  },
  {
   "cell_type": "code",
   "execution_count": null,
   "metadata": {},
   "outputs": [],
   "source": [
    "# Etiquetas y agrupacion selectores en contenedor\n",
    "\n",
    "main_selector_label = wd.Label('Main parameters', \n",
    "                               layout=wd.Layout(height='45px'))\n",
    "\n",
    "main_selector_box = wd.VBox(children=[main_selector_label,\n",
    "                                      stocks_selector,\n",
    "                                      indicator_selector,\n",
    "                                      start_date_selector,\n",
    "                                      end_date_selector])"
   ]
  },
  {
   "cell_type": "code",
   "execution_count": null,
   "metadata": {},
   "outputs": [],
   "source": [
    "# BANDAS DE BOLLINGER\n",
    "\n",
    "bb_label = wd.Label('Bollinger Bands')\n",
    "\n",
    "n_param = wd.IntSlider(value=20, min=1, max=40, step=1, \n",
    "                       description='N:', continuous_update=False)\n",
    "\n",
    "k_param = wd.FloatSlider(value=2, min=0.5, max=4, step=0.5, \n",
    "                         description='k:', continuous_update=False)\n",
    "\n",
    "bollinger_box = wd.VBox(children=[bb_label, n_param, k_param])\n"
   ]
  },
  {
   "cell_type": "code",
   "execution_count": null,
   "metadata": {},
   "outputs": [],
   "source": [
    "# MACD\n",
    "\n",
    "macd_label = wd.Label('MACD')\n",
    "\n",
    "macd_fast = wd.IntSlider(value=12, min=2, max=50, step=1, \n",
    "                         description='Fast avg:', \n",
    "                         continuous_update=False)\n",
    "\n",
    "macd_slow = wd.IntSlider(value=26, min=2, max=50, step=1, \n",
    "                         description='Slow avg:', \n",
    "                         continuous_update=False)\n",
    "\n",
    "macd_signal = wd.IntSlider(value=9, min=2, max=50, step=1, \n",
    "                           description='MACD signal:', \n",
    "                           continuous_update=False)\n",
    "\n",
    "macd_box = wd.VBox(children=[macd_label, macd_fast, \n",
    "                             macd_slow, macd_signal])"
   ]
  },
  {
   "cell_type": "code",
   "execution_count": null,
   "metadata": {},
   "outputs": [],
   "source": [
    "# RSI\n",
    "\n",
    "rsi_label = wd.Label('RSI')\n",
    "\n",
    "rsi_periods = wd.IntSlider(value=14, min=2, max=50, step=1, \n",
    "                           description='RSI periods:', \n",
    "                           continuous_update=False)\n",
    "\n",
    "rsi_upper = wd.IntSlider(value=70, min=1, max=100, step=1, \n",
    "                         description='Upper Thr:', \n",
    "                         continuous_update=False)\n",
    "\n",
    "rsi_lower = wd.IntSlider(value=30, min=1, max=100, step=1, \n",
    "                         description='Lower Thr:', \n",
    "                         continuous_update=False)\n",
    "\n",
    "rsi_box = wd.VBox(children=[rsi_label, rsi_periods, \n",
    "                            rsi_upper, rsi_lower])\n",
    "\n"
   ]
  },
  {
   "cell_type": "code",
   "execution_count": null,
   "metadata": {},
   "outputs": [],
   "source": [
    "## Etiquetas y agrupacion selectores en contenedor\n",
    "\n",
    "\n",
    "sec_selector_label = wd.Label('Secondary parameters', \n",
    "                              layout=wd.Layout(height='45px'))\n",
    "blank_label = wd.Label('', layout=wd.Layout(height='45px'))\n",
    "\n",
    "sec_box_1 = wd.VBox([sec_selector_label, bollinger_box, macd_box])\n",
    "sec_box_2 = wd.VBox([blank_label, rsi_box])\n",
    "\n",
    "secondary_selector_box = wd.HBox([sec_box_1, sec_box_2])\n"
   ]
  },
  {
   "cell_type": "code",
   "execution_count": null,
   "metadata": {},
   "outputs": [],
   "source": [
    "## Agrupacion de cajas y preparacion de salida interactiva\n",
    "\n",
    "controls_dict = {'asset':stocks_selector, \n",
    "                 'indicator':indicator_selector, \n",
    "                 'start_date':start_date_selector, \n",
    "                 'end_date':end_date_selector, \n",
    "                 'bb_k':k_param, \n",
    "                 'bb_n':n_param,\n",
    "                 'macd_fast': macd_fast, \n",
    "                 'macd_slow': macd_slow, \n",
    "                 'macd_signal': macd_signal,\n",
    "                 'rsi_periods': rsi_periods, \n",
    "                 'rsi_upper': rsi_upper,\n",
    "                 'rsi_lower': rsi_lower}\n",
    "\n",
    "ui = wd.HBox([main_selector_box, secondary_selector_box])\n",
    "out = wd.interactive_output(ta_dashboard, controls_dict)"
   ]
  },
  {
   "cell_type": "code",
   "execution_count": null,
   "metadata": {
    "scrolled": false
   },
   "outputs": [],
   "source": [
    "# MOSTRAR DASHBOARD\n",
    "display(ui, out)"
   ]
  },
  {
   "cell_type": "code",
   "execution_count": null,
   "metadata": {},
   "outputs": [],
   "source": []
  }
 ],
 "metadata": {
  "interpreter": {
   "hash": "647c91732f687f04ac3fa3d97a8fa8ca0b712424f88378b61dfaa883ec24d4e6"
  },
  "kernelspec": {
   "display_name": "Python 3 (ipykernel)",
   "language": "python",
   "name": "python3"
  },
  "language_info": {
   "codemirror_mode": {
    "name": "ipython",
    "version": 3
   },
   "file_extension": ".py",
   "mimetype": "text/x-python",
   "name": "python",
   "nbconvert_exporter": "python",
   "pygments_lexer": "ipython3",
   "version": "3.9.7"
  }
 },
 "nbformat": 4,
 "nbformat_minor": 4
}
